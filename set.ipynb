{
 "cells": [
  {
   "cell_type": "code",
   "execution_count": 2,
   "id": "dcd1d766",
   "metadata": {},
   "outputs": [
    {
     "name": "stdout",
     "output_type": "stream",
     "text": [
      "<class 'set'>\n"
     ]
    }
   ],
   "source": [
    "#empty set\n",
    "s=set()\n",
    "print(type(s))"
   ]
  },
  {
   "cell_type": "code",
   "execution_count": 9,
   "id": "ffc2109b",
   "metadata": {},
   "outputs": [
    {
     "name": "stdout",
     "output_type": "stream",
     "text": [
      "{1, 3, 4, 99, 7, 41, 11, 18}\n",
      "<class 'set'>\n"
     ]
    }
   ],
   "source": [
    "#set doesn't allow duplicate value\n",
    "s=set([1,11,4,18,7,3,4,1,41,1,4,99])\n",
    "print(s)\n",
    "print(type(s))"
   ]
  },
  {
   "cell_type": "code",
   "execution_count": 10,
   "id": "5a83e00b",
   "metadata": {
    "scrolled": true
   },
   "outputs": [
    {
     "name": "stdout",
     "output_type": "stream",
     "text": [
      "{1, 3, 4, 99, 100, 7, 41, 11, 18}\n"
     ]
    }
   ],
   "source": [
    "#add(at a time only one argument is allowed)\n",
    "s.add(100)\n",
    "print(s)"
   ]
  },
  {
   "cell_type": "code",
   "execution_count": 12,
   "id": "7de1ab14",
   "metadata": {
    "scrolled": true
   },
   "outputs": [
    {
     "name": "stdout",
     "output_type": "stream",
     "text": [
      "{0, 1, 2, 3, 4, 99, 100, 7, 41, 11, 18, 21}\n"
     ]
    }
   ],
   "source": [
    "#update\n",
    "s1=([21,4,7,0,2])\n",
    "(s.update(s1))\n",
    "print(s)"
   ]
  },
  {
   "cell_type": "code",
   "execution_count": 15,
   "id": "52eb3170",
   "metadata": {},
   "outputs": [
    {
     "name": "stdout",
     "output_type": "stream",
     "text": [
      "{0, 1, 2, 3, 4, 99, 100, 7, 41, 11, 18, 21}\n"
     ]
    }
   ],
   "source": [
    "#copy\n",
    "s3= s.copy()\n",
    "print(s3)"
   ]
  },
  {
   "cell_type": "code",
   "execution_count": 16,
   "id": "d57abf59",
   "metadata": {},
   "outputs": [
    {
     "name": "stdout",
     "output_type": "stream",
     "text": [
      "{1, 2, 3, 4, 99, 100, 7, 41, 11, 18, 21}\n"
     ]
    }
   ],
   "source": [
    "#pop\n",
    "s.pop()\n",
    "print(s)"
   ]
  },
  {
   "cell_type": "code",
   "execution_count": 39,
   "id": "cb2e5e96",
   "metadata": {
    "scrolled": true
   },
   "outputs": [
    {
     "name": "stdout",
     "output_type": "stream",
     "text": [
      "{1, 4, 5, 6}\n",
      "{1, 2, 3, 4, 5, 6, 7, 8}\n",
      "{2, 3}\n",
      "{2, 3}\n",
      "{8, 7}\n",
      "{8, 7}\n"
     ]
    }
   ],
   "source": [
    "#set operation\n",
    "\n",
    "a={1,2,3,4,5,6}\n",
    "b={2,7,8,3}\n",
    "\n",
    "#1. difference\n",
    "d= a.difference(b)\n",
    "print(d)\n",
    "\n",
    "#2. Union\n",
    "print(a.union(b))\n",
    "\n",
    "#3. Intersection\n",
    "print(a.intersection(b))\n",
    "\n",
    "#4. intersection_update\n",
    "a.intersection_update(b)\n",
    "print(a)\n",
    "\n",
    "#5. Symmetric_difference\n",
    "print(a.symmetric_difference(b))\n",
    "\n",
    "#6. Symmetric_difference_update\n",
    "a.symmetric_difference_update(b)\n",
    "print(a)\n",
    "\n",
    "\n",
    "\n",
    "\n"
   ]
  },
  {
   "cell_type": "code",
   "execution_count": null,
   "id": "fd2cf414",
   "metadata": {},
   "outputs": [],
   "source": []
  }
 ],
 "metadata": {
  "kernelspec": {
   "display_name": "Python 3 (ipykernel)",
   "language": "python",
   "name": "python3"
  },
  "language_info": {
   "codemirror_mode": {
    "name": "ipython",
    "version": 3
   },
   "file_extension": ".py",
   "mimetype": "text/x-python",
   "name": "python",
   "nbconvert_exporter": "python",
   "pygments_lexer": "ipython3",
   "version": "3.10.7"
  }
 },
 "nbformat": 4,
 "nbformat_minor": 5
}
