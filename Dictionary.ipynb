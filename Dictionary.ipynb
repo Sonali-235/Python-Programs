{
 "cells": [
  {
   "cell_type": "code",
   "execution_count": 1,
   "id": "86bf3110",
   "metadata": {},
   "outputs": [
    {
     "name": "stdout",
     "output_type": "stream",
     "text": [
      "<class 'dict'>\n"
     ]
    }
   ],
   "source": [
    "#empty dictionary\n",
    "d={}\n",
    "print(type(d))"
   ]
  },
  {
   "cell_type": "code",
   "execution_count": 7,
   "id": "f600e033",
   "metadata": {},
   "outputs": [
    {
     "name": "stdout",
     "output_type": "stream",
     "text": [
      "{1: 'Sonali'}\n",
      "<class 'dict'>\n",
      "{1: 'Sonali', 2: 'Bobu'}\n"
     ]
    }
   ],
   "source": [
    "#add elements to dictionary\n",
    "d={1:'Sonali'}\n",
    "print(d)\n",
    "print(type(d))\n",
    "\n",
    "#different way to add elements into a dictionary\n",
    "d[2]='Bobu'\n",
    "print(d)"
   ]
  },
  {
   "cell_type": "code",
   "execution_count": 22,
   "id": "3e1a0294",
   "metadata": {},
   "outputs": [
    {
     "name": "stdout",
     "output_type": "stream",
     "text": [
      "Biswajit\n",
      "dict_keys([1, 2, 3, 4])\n",
      "dict_values(['Sonali', 'Bobu', 'Sonali', 'Biswajit'])\n",
      "dict_items([(1, 'Sonali'), (2, 'Bobu'), (3, 'Sonali'), (4, 'Biswajit')])\n",
      "Sonali\n"
     ]
    }
   ],
   "source": [
    "#accessing dictionary\n",
    "d={1:'Sonali', 2:'Bobu', 3:'Sonali', 4:'Biswajit'}\n",
    "print(d[4])\n",
    "\n",
    "#print all keys present in the dictionary\n",
    "print(d.keys())\n",
    "\n",
    "#print all values\n",
    "print(d.values())\n",
    "\n",
    "#print all te elements \n",
    "print(d.items())\n",
    "\n",
    "#if element is not present in the dictionary, then too call it then it won't give error\n",
    "print(d.get(1,'Sonali')) "
   ]
  },
  {
   "cell_type": "code",
   "execution_count": 23,
   "id": "100de429",
   "metadata": {},
   "outputs": [
    {
     "name": "stdout",
     "output_type": "stream",
     "text": [
      "1,Sonali\n",
      "2,Bobu\n",
      "3,Sonali\n",
      "4,Biswajit\n"
     ]
    }
   ],
   "source": [
    "for key,value in d.items():\n",
    "    print(f'{key},{value}')"
   ]
  },
  {
   "cell_type": "code",
   "execution_count": 26,
   "id": "ac8fe091",
   "metadata": {},
   "outputs": [
    {
     "name": "stdout",
     "output_type": "stream",
     "text": [
      "{1: 'Sonali', 2: 'Bobu', 3: 'Sonali', 4: 'Biswajit', 5: 'Chuin'}\n",
      "{1: 'Sonali', 2: 'Bobu', 3: 'Sonali', 4: 'Biswajit'}\n",
      "{1: 'Sonali', 2: 'Bobu', 3: 'Sonali', 4: 'Biswajit'}\n"
     ]
    }
   ],
   "source": [
    "d[5]='Chuin'\n",
    "print(d)\n",
    "\n",
    "#pop & pop(key,value)\n",
    "d.pop(5)\n",
    "print(d)\n",
    "\n",
    "#copy\n",
    "d1= d.copy()\n",
    "print(d1)\n"
   ]
  },
  {
   "cell_type": "code",
   "execution_count": 4,
   "id": "b3ca080b",
   "metadata": {},
   "outputs": [
    {
     "data": {
      "text/plain": [
       "'Biswajit'"
      ]
     },
     "execution_count": 4,
     "metadata": {},
     "output_type": "execute_result"
    }
   ],
   "source": [
    "# setdefault key,value\n",
    "d={1:'Sonali', 2:'Bobu', 3:'Sonali', 4:'Biswajit'}\n",
    "d.setdefault(4,'Biswajit')"
   ]
  },
  {
   "cell_type": "code",
   "execution_count": 9,
   "id": "b6011520",
   "metadata": {},
   "outputs": [
    {
     "name": "stdout",
     "output_type": "stream",
     "text": [
      "200\n"
     ]
    }
   ],
   "source": [
    "#sum\n",
    "e={1:100, 2:100}\n",
    "print(sum(e.values()))"
   ]
  },
  {
   "cell_type": "code",
   "execution_count": 10,
   "id": "e53e3bbc",
   "metadata": {
    "scrolled": true
   },
   "outputs": [
    {
     "name": "stdout",
     "output_type": "stream",
     "text": [
      "{1: 100, 2: 100, 3: 'Sonali', 4: 'Biswajit'}\n"
     ]
    }
   ],
   "source": [
    "#update\n",
    "d.update(e)\n",
    "print(d)"
   ]
  },
  {
   "cell_type": "code",
   "execution_count": 13,
   "id": "0bb74004",
   "metadata": {},
   "outputs": [
    {
     "name": "stdout",
     "output_type": "stream",
     "text": [
      "[1, 2, 3, 4]\n"
     ]
    }
   ],
   "source": [
    "#sorted\n",
    "print(sorted(d))"
   ]
  }
 ],
 "metadata": {
  "kernelspec": {
   "display_name": "Python 3 (ipykernel)",
   "language": "python",
   "name": "python3"
  },
  "language_info": {
   "codemirror_mode": {
    "name": "ipython",
    "version": 3
   },
   "file_extension": ".py",
   "mimetype": "text/x-python",
   "name": "python",
   "nbconvert_exporter": "python",
   "pygments_lexer": "ipython3",
   "version": "3.10.7"
  }
 },
 "nbformat": 4,
 "nbformat_minor": 5
}
